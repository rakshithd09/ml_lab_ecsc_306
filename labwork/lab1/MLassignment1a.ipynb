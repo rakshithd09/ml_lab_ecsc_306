{
 "cells": [
  {
   "cell_type": "code",
   "execution_count": null,
   "metadata": {
    "collapsed": true
   },
   "outputs": [],
   "source": [
    "import tensorflow as tf\n",
    "\n",
    "with tf.name_scope(\"5_plus_6_squared\"):\n",
    "    a = tf.constant(5)\n",
    "    b = tf.constant(6)\n",
    "    c = tf.square(a, name=\"a_2\")\n",
    "    d = tf.square(b, name=\"b_2\")\n",
    "    e = tf.multiply(a,b, name=\"ab\")\n",
    "    f = tf.multiply(e,2, name=\"2ab\")\n",
    "    g = tf.add(c,d, name=\"a_2_plus_b_2\")\n",
    "    h = tf.add(g,f, name=\"a_2_plus_b_2_plus_2ab\")\n",
    "\n",
    "with tf.Session() as sess:\n",
    "    writer = tf.summary.FileWriter(\"/tmp/tboard/output100\", sess.graph)\n",
    "    print(sess.run(h))\n",
    "    writer.close()\n",
    "\n"
   ]
  }
 ],
 "metadata": {
  "kernelspec": {
   "display_name": "Python 3",
   "language": "python",
   "name": "python3"
  },
  "language_info": {
   "codemirror_mode": {
    "name": "ipython",
    "version": 3
   },
   "file_extension": ".py",
   "mimetype": "text/x-python",
   "name": "python",
   "nbconvert_exporter": "python",
   "pygments_lexer": "ipython3",
   "version": "3.5.2"
  }
 },
 "nbformat": 4,
 "nbformat_minor": 2
}
